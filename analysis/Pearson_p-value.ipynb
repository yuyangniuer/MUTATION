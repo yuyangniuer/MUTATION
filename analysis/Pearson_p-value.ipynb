{
 "cells": [
  {
   "cell_type": "code",
   "execution_count": 1,
   "metadata": {},
   "outputs": [],
   "source": [
    "import numpy as np\n",
    "import pandas  as pd\n",
    "import os\n",
    "import scipy.stats\n",
    "import random\n",
    "import math\n",
    "\n",
    "def mystd(dfin):\n",
    "    height = dfin.shape[0]\n",
    "    result = np.zeros(100)\n",
    "    fullindex =[]\n",
    "    for i in range(height):\n",
    "        fullindex.append(i)\n",
    "    for t in range(100):\n",
    "        selected_random_index = random.sample(fullindex,math.ceil(0.8*height))\n",
    "        df_pearson = dfin.iloc[selected_random_index,:]\n",
    "        rp = scipy.stats.pearsonr(df_pearson.iloc[:,0],df_pearson.iloc[:,1])[0]\n",
    "        \n",
    "        result[t]=rp\n",
    "    return result.std()\n",
    "\n",
    "\n",
    "\n",
    "\n",
    "\n"
   ]
  },
  {
   "cell_type": "code",
   "execution_count": 2,
   "metadata": {},
   "outputs": [
    {
     "name": "stdout",
     "output_type": "stream",
     "text": [
      "(-0.5678109668700817, 0.2398173161997025)\n",
      "(0.6422473003549576, 0.1690866448250162)\n"
     ]
    }
   ],
   "source": [
    "dff3 = pd.read_excel(\"./data/fig3.xlsx\")\n",
    "x = dff3.iloc[:,1]\n",
    "y1 = dff3.iloc[:,2]\n",
    "y2 = dff3.iloc[:,3]\n",
    "print(scipy.stats.pearsonr(x,y1))\n",
    "print(scipy.stats.pearsonr(x,y2))"
   ]
  },
  {
   "cell_type": "code",
   "execution_count": 3,
   "metadata": {},
   "outputs": [
    {
     "name": "stdout",
     "output_type": "stream",
     "text": [
      "(0.30692154340974936, 0.0034388262290681055)\n",
      "(0.3168401062276619, 0.0024850482742630004)\n",
      "(0.2996934895568971, 0.004327760223016514)\n",
      "(0.37940277828359625, 0.00024562525701900284)\n",
      "(0.38648599173247394, 0.00018327130779368763)\n",
      "(0.36751122086725807, 0.0003957261646009711)\n",
      "(0.4015293542941674, 9.622161849133516e-05)\n",
      "(0.4306433944452544, 2.5254344516190274e-05)\n",
      "(0.4225318244040688, 3.711882597552396e-05)\n",
      "(0.2575127484620021, 0.01483978049778905)\n",
      "(0.24664265049875425, 0.019803567525426054)\n",
      "(0.23546793931084545, 0.02632857892082583)\n",
      "(0.18050063638655722, 0.09051239936689073)\n",
      "(0.16754486192722617, 0.11655797364336805)\n",
      "(0.1563064910608219, 0.14353467295739863)\n",
      "(0.15584626379597868, 0.14473206246889442)\n",
      "(0.15657127472139926, 0.14284916785425586)\n",
      "(0.15102183798411314, 0.15774006332609583)\n"
     ]
    }
   ],
   "source": [
    "dfgb = pd.read_excel(\"./data/fig2-gbsa.xlsx\")\n",
    "\n",
    "x = dfgb.iloc[:,2]\n",
    "\n",
    "for i in range(3,21):\n",
    "    print(scipy.stats.pearsonr(x,dfgb.iloc[:,i]))"
   ]
  },
  {
   "cell_type": "code",
   "execution_count": 4,
   "metadata": {},
   "outputs": [
    {
     "name": "stdout",
     "output_type": "stream",
     "text": [
      "(0.28908671243281886, 0.006003107495062736)\n",
      "(0.33246020411247695, 0.001456838748302912)\n",
      "(0.3163049923877875, 0.0025296892398208163)\n",
      "(0.3258573376387592, 0.0018320043146299878)\n",
      "(0.4022571444114238, 9.319503591640366e-05)\n",
      "(0.3866178848584508, 0.00018226317714625854)\n",
      "(0.32308665732873576, 0.0020138967647963077)\n",
      "(0.43939952888335587, 1.6478849745371947e-05)\n",
      "(0.43711446449265673, 1.844193189718509e-05)\n",
      "(0.258602846202018, 0.01440733613038215)\n",
      "(0.24363520586740856, 0.021406144304809676)\n",
      "(0.27901211211624405, 0.008102042972155946)\n",
      "(0.17409981968296936, 0.10273779781154826)\n",
      "(0.1610360304951177, 0.13165883603432413)\n",
      "(0.16001070537709383, 0.1341676682828933)\n",
      "(0.136532232343339, 0.20201992571562397)\n",
      "(0.1412906792641611, 0.18659245266546093)\n",
      "(-0.29499352813712637, 0.005010453597276953)\n"
     ]
    }
   ],
   "source": [
    "dfpb = pd.read_excel(\"./data/fig2-pbsa.xlsx\")\n",
    "\n",
    "x = dfpb.iloc[:,2]\n",
    "\n",
    "for i in range(3,21):\n",
    "    print(scipy.stats.pearsonr(x,dfpb.iloc[:,i]))"
   ]
  },
  {
   "cell_type": "code",
   "execution_count": 5,
   "metadata": {},
   "outputs": [
    {
     "name": "stdout",
     "output_type": "stream",
     "text": [
      "(0.22961869584665898, 0.030417817223463317)\n",
      "(0.2692583693112903, 0.0107235965961384)\n",
      "(0.2798236362851155, 0.007911788212989676)\n",
      "(0.3116838109371967, 0.00294622182916021)\n",
      "(0.33510795851262654, 0.0013270561884083374)\n",
      "(0.3176606622226115, 0.00241796937319826)\n",
      "(0.11142586079952617, 0.2985393942192675)\n",
      "(0.13566997298458544, 0.20491051316941164)\n",
      "(0.14348228030208043, 0.17978213644088267)\n",
      "(0.1876021712214376, 0.07832601317729429)\n",
      "(0.1897503813372649, 0.07491016209013661)\n",
      "(0.17232572487896486, 0.10634511552028049)\n"
     ]
    }
   ],
   "source": [
    "df425 = pd.read_excel(\"./data/fig2-4x25ns.xlsx\")\n",
    "\n",
    "x = df425.iloc[:,2]\n",
    "\n",
    "for i in range(3,15):\n",
    "    print(scipy.stats.pearsonr(x,df425.iloc[:,i]))"
   ]
  },
  {
   "cell_type": "code",
   "execution_count": 6,
   "metadata": {},
   "outputs": [
    {
     "name": "stdout",
     "output_type": "stream",
     "text": [
      "(0.1521623710186341, 0.1545890138854305)\n",
      "(0.2011734359460728, 0.05870277874285592)\n",
      "(0.16760037271723427, 0.11643519716754938)\n",
      "(0.14776144762850205, 0.16701130111693047)\n",
      "(0.169473978340734, 0.11234950102366772)\n",
      "(0.15506413456485443, 0.14678418334371454)\n",
      "(0.07472728872990392, 0.4864389048397419)\n",
      "(0.1306816943016391, 0.22221366626715788)\n",
      "(0.15537070122280858, 0.14597723508691304)\n",
      "(0.10924290119983324, 0.30816488572129397)\n",
      "(0.12452183921358773, 0.24496682626643262)\n",
      "(0.13102460604937832, 0.2209922673690026)\n"
     ]
    }
   ],
   "source": [
    "dfmin = pd.read_excel(\"./data/fig2-min.xlsx\")\n",
    "\n",
    "x = dfmin.iloc[:,2]\n",
    "\n",
    "for i in range(3,15):\n",
    "    print(scipy.stats.pearsonr(x,dfmin.iloc[:,i]))"
   ]
  },
  {
   "cell_type": "code",
   "execution_count": 7,
   "metadata": {},
   "outputs": [
    {
     "name": "stdout",
     "output_type": "stream",
     "text": [
      "(0.3994771056187699, 0.000558123879900899)\n",
      "0.05334267323642041\n"
     ]
    }
   ],
   "source": [
    "dfmin = pd.read_excel(\"./data/fig4-a-single.xlsx\")\n",
    "x = dfmin.iloc[:,0]\n",
    "y= dfmin.iloc[:,1]\n",
    "print(scipy.stats.pearsonr(x,y))\n",
    "print(mystd(dfmin))\n"
   ]
  },
  {
   "cell_type": "code",
   "execution_count": 8,
   "metadata": {},
   "outputs": [
    {
     "name": "stdout",
     "output_type": "stream",
     "text": [
      "(0.5171693150547502, 0.027955805250020845)\n",
      "0.06824574355742935\n"
     ]
    }
   ],
   "source": [
    "dfmin = pd.read_excel(\"./data/fig4-a-multiple.xlsx\")\n",
    "x = dfmin.iloc[:,0]\n",
    "y= dfmin.iloc[:,1]\n",
    "print(scipy.stats.pearsonr(x,y))\n",
    "print(mystd(dfmin))"
   ]
  },
  {
   "cell_type": "code",
   "execution_count": 9,
   "metadata": {},
   "outputs": [
    {
     "name": "stdout",
     "output_type": "stream",
     "text": [
      "(0.33478139186594624, 0.04282988444907728)\n",
      "0.09602388858470798\n"
     ]
    }
   ],
   "source": [
    "\n",
    "dfmin = pd.read_excel(\"./data/fig4-b-0-1.xlsx\")\n",
    "x = dfmin.iloc[:,0]\n",
    "y= dfmin.iloc[:,1]\n",
    "#print(dfmin)\n",
    "print(scipy.stats.pearsonr(x,y))\n",
    "print(mystd(dfmin))"
   ]
  },
  {
   "cell_type": "code",
   "execution_count": 10,
   "metadata": {},
   "outputs": [
    {
     "name": "stdout",
     "output_type": "stream",
     "text": [
      "(0.3931147052630849, 0.03162971590935252)\n",
      "0.09346912560574261\n"
     ]
    }
   ],
   "source": [
    "\n",
    "dfmin = pd.read_excel(\"./data/fig4-b-2-4.xlsx\")\n",
    "x = dfmin.iloc[:,0]\n",
    "y= dfmin.iloc[:,1]\n",
    "#print(dfmin)\n",
    "print(scipy.stats.pearsonr(x,y))\n",
    "print(mystd(dfmin))"
   ]
  },
  {
   "cell_type": "code",
   "execution_count": 11,
   "metadata": {},
   "outputs": [
    {
     "name": "stdout",
     "output_type": "stream",
     "text": [
      "(0.5112036414227396, 0.015035041406616436)\n",
      "0.08591636498420188\n"
     ]
    }
   ],
   "source": [
    "dfmin = pd.read_excel(\"./data/fig4-b-5.xlsx\")\n",
    "x = dfmin.iloc[:,0]\n",
    "y= dfmin.iloc[:,1]\n",
    "\n",
    "print(scipy.stats.pearsonr(x,y))\n",
    "print(mystd(dfmin))"
   ]
  },
  {
   "cell_type": "code",
   "execution_count": 12,
   "metadata": {},
   "outputs": [
    {
     "name": "stdout",
     "output_type": "stream",
     "text": [
      "(0.47816839996989957, 0.002394179465184697)\n",
      "0.05128988827607188\n"
     ]
    }
   ],
   "source": [
    "dfmin = pd.read_excel(\"./data/fig4-c-charge.xlsx\")\n",
    "x = dfmin.iloc[:,0]\n",
    "y= dfmin.iloc[:,1]\n",
    "\n",
    "print(scipy.stats.pearsonr(x,y))\n",
    "print(mystd(dfmin))"
   ]
  },
  {
   "cell_type": "code",
   "execution_count": 13,
   "metadata": {},
   "outputs": [
    {
     "name": "stdout",
     "output_type": "stream",
     "text": [
      "(0.4576160692402169, 0.0007346860290559266)\n",
      "0.08012488785645448\n"
     ]
    }
   ],
   "source": [
    "dfmin = pd.read_excel(\"./data/fig4-c-neutral.xlsx\")\n",
    "x = dfmin.iloc[:,0]\n",
    "y= dfmin.iloc[:,1]\n",
    "\n",
    "print(scipy.stats.pearsonr(x,y))\n",
    "print(mystd(dfmin))"
   ]
  },
  {
   "cell_type": "code",
   "execution_count": null,
   "metadata": {},
   "outputs": [
    {
     "name": "stdout",
     "output_type": "stream",
     "text": [
      "(0.8473303113816735, 0.0019684418013531007)\n"
     ]
    }
   ],
   "source": [
    "df =pd.read_excel(\"./data/fig5-D7R4-tryptamine.xlsx\")\n",
    "x = df.iloc[:,0].values\n",
    "y = df.iloc[:,1]\n",
    "print(scipy.stats.pearsonr(x,y))\n",
    "\n"
   ]
  },
  {
   "cell_type": "code",
   "execution_count": 23,
   "metadata": {},
   "outputs": [
    {
     "name": "stdout",
     "output_type": "stream",
     "text": [
      "(0.8225123419885536, 0.04445720666619202)\n"
     ]
    }
   ],
   "source": [
    "df =pd.read_excel(\"./data/fig5-Streptavidin.xlsx\")\n",
    "x = df.iloc[:,0].values\n",
    "y = df.iloc[:,1]\n",
    "print(scipy.stats.pearsonr(x,y))"
   ]
  },
  {
   "cell_type": "code",
   "execution_count": 24,
   "metadata": {},
   "outputs": [
    {
     "name": "stdout",
     "output_type": "stream",
     "text": [
      "(0.8460960911041661, 0.033706903972570396)\n"
     ]
    }
   ],
   "source": [
    "df =pd.read_excel(\"./data/fig5-EsteraseLipA.xlsx\")\n",
    "x = df.iloc[:,0].values\n",
    "y = df.iloc[:,1]\n",
    "print(scipy.stats.pearsonr(x,y))"
   ]
  },
  {
   "cell_type": "code",
   "execution_count": 26,
   "metadata": {},
   "outputs": [
    {
     "name": "stdout",
     "output_type": "stream",
     "text": [
      "(0.20086521567600407, 0.4728652280965534)\n"
     ]
    }
   ],
   "source": [
    "df =pd.read_excel(\"./data/fig5-Aldosereductase.xlsx\")\n",
    "x = df.iloc[:,0].values\n",
    "y = df.iloc[:,1]\n",
    "print(scipy.stats.pearsonr(x,y))"
   ]
  },
  {
   "cell_type": "code",
   "execution_count": 25,
   "metadata": {},
   "outputs": [
    {
     "name": "stdout",
     "output_type": "stream",
     "text": [
      "(0.02000172109055866, 0.9592664106743131)\n"
     ]
    }
   ],
   "source": [
    "df =pd.read_excel(\"./data/fig5-HIV.xlsx\")\n",
    "x = df.iloc[:,0].values\n",
    "y = df.iloc[:,1]\n",
    "print(scipy.stats.pearsonr(x,y))"
   ]
  },
  {
   "cell_type": "code",
   "execution_count": 27,
   "metadata": {},
   "outputs": [
    {
     "name": "stdout",
     "output_type": "stream",
     "text": [
      "(-0.1959982846655731, 0.5018731327327235)\n"
     ]
    }
   ],
   "source": [
    "df =pd.read_excel(\"./data/fig5-HSP82.xlsx\")\n",
    "x = df.iloc[:,0].values\n",
    "y = df.iloc[:,1]\n",
    "print(scipy.stats.pearsonr(x,y))"
   ]
  },
  {
   "cell_type": "code",
   "execution_count": 20,
   "metadata": {},
   "outputs": [
    {
     "name": "stdout",
     "output_type": "stream",
     "text": [
      "(0.45138525082150405, 0.19037596100361337)\n",
      "(0.5799794599132724, 0.07882375557408888)\n"
     ]
    }
   ],
   "source": [
    "df =pd.read_excel(\"./data/fig6.xlsx\")\n",
    "x = df.iloc[:,0]\n",
    "y1 = df.iloc[:,1]\n",
    "y2 = df.iloc[:,2]\n",
    "print(scipy.stats.pearsonr(x,y1))\n",
    "print(scipy.stats.pearsonr(x,y2))"
   ]
  },
  {
   "cell_type": "code",
   "execution_count": 21,
   "metadata": {},
   "outputs": [],
   "source": [
    "#std"
   ]
  }
 ],
 "metadata": {
  "kernelspec": {
   "display_name": "Python 3.8.5 ('base')",
   "language": "python",
   "name": "python3"
  },
  "language_info": {
   "codemirror_mode": {
    "name": "ipython",
    "version": 3
   },
   "file_extension": ".py",
   "mimetype": "text/x-python",
   "name": "python",
   "nbconvert_exporter": "python",
   "pygments_lexer": "ipython3",
   "version": "3.8.5"
  },
  "orig_nbformat": 4.0,
  "vscode": {
   "interpreter": {
    "hash": "ad2bdc8ecc057115af97d19610ffacc2b4e99fae6737bb82f5d7fb13d2f2c186"
   }
  }
 },
 "nbformat": 4,
 "nbformat_minor": 2
}
